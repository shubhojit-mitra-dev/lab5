{
 "cells": [
  {
   "cell_type": "markdown",
   "metadata": {},
   "source": [
    "# Lab Experiment 5\n",
    "\n",
    "This data has 3 classes: neutral, negative, and positive\n",
    "\n",
    "Things to do:\n",
    "1. Evaluate the mean value \n",
    "2. Extract ten different statistical features\n",
    "3. classify feature using weka/python"
   ]
  },
  {
   "cell_type": "code",
   "execution_count": null,
   "metadata": {},
   "outputs": [],
   "source": [
    "import pandas as pd\n",
    "\n",
    "df = pd.read_csv('emotions.csv')"
   ]
  },
  {
   "cell_type": "markdown",
   "metadata": {},
   "source": [
    "### Cleaning the Data"
   ]
  },
  {
   "cell_type": "code",
   "execution_count": null,
   "metadata": {},
   "outputs": [],
   "source": [
    "for col in df.columns:\n",
    "    if col != 'label':\n",
    "        df[col] = df[col].apply(lambda x: int(float(x)))\n",
    "\n",
    "df.to_csv('cleaned_emotions.csv', index=False)\n",
    "\n",
    "print(\"Conversion complete. Cleaned data saved to 'cleaned_emotions.csv'.\")"
   ]
  },
  {
   "cell_type": "markdown",
   "metadata": {},
   "source": [
    "### Filtering the data"
   ]
  },
  {
   "cell_type": "code",
   "execution_count": null,
   "metadata": {},
   "outputs": [],
   "source": [
    "df = pd.read_csv('cleaned_emotions.csv')\n",
    "\n",
    "# Filter data based on labels\n",
    "positive_data = df[df['label'] == 'POSITIVE']\n",
    "negative_data = df[df['label'] == 'NEGATIVE']\n",
    "neutral_data = df[df['label'] == 'NEUTRAL']"
   ]
  },
  {
   "cell_type": "markdown",
   "metadata": {},
   "source": [
    "### 1. Calculate the mean"
   ]
  },
  {
   "cell_type": "code",
   "execution_count": null,
   "metadata": {},
   "outputs": [],
   "source": [
    "# Calculate the mean for each category\n",
    "mean_positive = positive_data.loc[:, positive_data.columns != 'label'].mean()\n",
    "mean_negative = negative_data.loc[:, negative_data.columns != 'label'].mean()\n",
    "mean_neutral = neutral_data.loc[:, neutral_data.columns != 'label'].mean()\n",
    "\n",
    "# Display the means\n",
    "print(\"Mean values for POSITIVE class:\\n\", mean_positive)\n",
    "print(\"\\nMean values for NEGATIVE class:\\n\", mean_negative)\n",
    "print(\"\\nMean values for NEUTRAL class:\\n\", mean_neutral)"
   ]
  },
  {
   "cell_type": "markdown",
   "metadata": {},
   "source": [
    "### 2. Calculate the median"
   ]
  },
  {
   "cell_type": "code",
   "execution_count": null,
   "metadata": {},
   "outputs": [],
   "source": [
    "# Calculate the median for each category\n",
    "median_positive = positive_data.loc[:, positive_data.columns != 'label'].median()\n",
    "median_negative = negative_data.loc[:, negative_data.columns != 'label'].median()\n",
    "median_neutral = neutral_data.loc[:, neutral_data.columns != 'label'].median()\n",
    "\n",
    "# Display the medians\n",
    "print(\"Median values for POSITIVE class:\\n\", median_positive)\n",
    "print(\"\\nMedian values for NEGATIVE class:\\n\", median_negative)\n",
    "print(\"\\nMedian values for NEUTRAL class:\\n\", median_neutral)"
   ]
  },
  {
   "cell_type": "markdown",
   "metadata": {},
   "source": [
    "### 3. Calculating the mode"
   ]
  },
  {
   "cell_type": "code",
   "execution_count": null,
   "metadata": {},
   "outputs": [],
   "source": [
    "# Calculate the mode for each filtered dataset, excluding the 'label' column\n",
    "neutral_mode = neutral_data.loc[:, neutral_data.columns != 'label'].mode().iloc[0]\n",
    "negative_mode = negative_data.loc[:, negative_data.columns != 'label'].mode().iloc[0]\n",
    "positive_mode = positive_data.loc[:, positive_data.columns != 'label'].mode().iloc[0]\n",
    "\n",
    "# Print the mode values\n",
    "print(\"Neutral Mode Values:\\n\", neutral_mode)\n",
    "print(\"\\nNegative Mode Values:\\n\", negative_mode)\n",
    "print(\"\\nPositive Mode Values:\\n\", positive_mode)"
   ]
  },
  {
   "cell_type": "markdown",
   "metadata": {},
   "source": [
    "### 4. Calculating the Standard Deviation (std)"
   ]
  },
  {
   "cell_type": "code",
   "execution_count": null,
   "metadata": {},
   "outputs": [],
   "source": [
    "# Calculate the standard deviation for each filtered dataset, excluding the 'label' column\n",
    "neutral_std = neutral_data.loc[:, neutral_data.columns != 'label'].std()\n",
    "negative_std = negative_data.loc[:, negative_data.columns != 'label'].std()\n",
    "positive_std = positive_data.loc[:, positive_data.columns != 'label'].std()\n",
    "\n",
    "# Print the standard deviation values\n",
    "print(\"Neutral Standard Deviation Values:\\n\", neutral_std)\n",
    "print(\"\\nNegative Standard Deviation Values:\\n\", negative_std)\n",
    "print(\"\\nPositive Standard Deviation Values:\\n\", positive_std)"
   ]
  },
  {
   "cell_type": "markdown",
   "metadata": {},
   "source": [
    "### 5. Calculating the Variance"
   ]
  },
  {
   "cell_type": "code",
   "execution_count": null,
   "metadata": {},
   "outputs": [],
   "source": [
    "# Calculate the variance for each filtered dataset, excluding the 'label' column\n",
    "neutral_variance = neutral_data.loc[:, neutral_data.columns != 'label'].var()\n",
    "negative_variance = negative_data.loc[:, negative_data.columns != 'label'].var()\n",
    "positive_variance = positive_data.loc[:, positive_data.columns != 'label'].var()\n",
    "\n",
    "# Print the variance values\n",
    "print(\"Neutral Variance Values:\\n\", neutral_variance)\n",
    "print(\"\\nNegative Variance Values:\\n\", negative_variance)\n",
    "print(\"\\nPositive Variance Values:\\n\", positive_variance)"
   ]
  },
  {
   "cell_type": "markdown",
   "metadata": {},
   "source": [
    "### 6. Calculate the Min & Max"
   ]
  },
  {
   "cell_type": "code",
   "execution_count": null,
   "metadata": {},
   "outputs": [],
   "source": [
    "# Calculate the minimum and maximum values for each filtered dataset, excluding the 'label' column\n",
    "neutral_min = neutral_data.loc[:, neutral_data.columns != 'label'].min()\n",
    "neutral_max = neutral_data.loc[:, neutral_data.columns != 'label'].max()\n",
    "\n",
    "negative_min = negative_data.loc[:, negative_data.columns != 'label'].min()\n",
    "negative_max = negative_data.loc[:, negative_data.columns != 'label'].max()\n",
    "\n",
    "positive_min = positive_data.loc[:, positive_data.columns != 'label'].min()\n",
    "positive_max = positive_data.loc[:, positive_data.columns != 'label'].max()\n",
    "\n",
    "# Print the minimum and maximum values\n",
    "print(\"Neutral Min Values:\\n\", neutral_min)\n",
    "print(\"Neutral Max Values:\\n\", neutral_max)\n",
    "\n",
    "print(\"\\nNegative Min Values:\\n\", negative_min)\n",
    "print(\"Negative Max Values:\\n\", negative_max)\n",
    "\n",
    "print(\"\\nPositive Min Values:\\n\", positive_min)\n",
    "print(\"Positive Max Values:\\n\", positive_max)"
   ]
  },
  {
   "cell_type": "markdown",
   "metadata": {},
   "source": [
    "### 7. Calculating the Quartiles (Q1, Q3)\n",
    "\n",
    "The 25th percentile (Q1) and 75th percentile (Q3) values, which help in understanding the distribution and identifying outliers.\n",
    "\n"
   ]
  },
  {
   "cell_type": "code",
   "execution_count": null,
   "metadata": {},
   "outputs": [],
   "source": [
    "# Calculate the 25th percentile (Q1) and 75th percentile (Q3) for each filtered dataset, excluding the 'label' column\n",
    "neutral_q1 = neutral_data.loc[:, neutral_data.columns != 'label'].quantile(0.25)\n",
    "neutral_q3 = neutral_data.loc[:, neutral_data.columns != 'label'].quantile(0.75)\n",
    "\n",
    "negative_q1 = negative_data.loc[:, negative_data.columns != 'label'].quantile(0.25)\n",
    "negative_q3 = negative_data.loc[:, negative_data.columns != 'label'].quantile(0.75)\n",
    "\n",
    "positive_q1 = positive_data.loc[:, positive_data.columns != 'label'].quantile(0.25)\n",
    "positive_q3 = positive_data.loc[:, positive_data.columns != 'label'].quantile(0.75)\n",
    "\n",
    "# Print the Q1 and Q3 values\n",
    "print(\"Neutral Q1 Values:\\n\", neutral_q1)\n",
    "print(\"Neutral Q3 Values:\\n\", neutral_q3)\n",
    "\n",
    "print(\"\\nNegative Q1 Values:\\n\", negative_q1)\n",
    "print(\"Negative Q3 Values:\\n\", negative_q3)\n",
    "\n",
    "print(\"\\nPositive Q1 Values:\\n\", positive_q1)\n",
    "print(\"Positive Q3 Values:\\n\", positive_q3)"
   ]
  },
  {
   "cell_type": "markdown",
   "metadata": {},
   "source": [
    "### 8. Interquartile Range (IQR)\n",
    "\n",
    "The range between Q1 and Q3, giving a sense of the spread of the middle 50% of data."
   ]
  },
  {
   "cell_type": "code",
   "execution_count": null,
   "metadata": {},
   "outputs": [],
   "source": [
    "# Calculate the 25th percentile (Q1) and 75th percentile (Q3) for each filtered dataset, excluding the 'label' column\n",
    "neutral_q1 = neutral_data.loc[:, neutral_data.columns != 'label'].quantile(0.25)\n",
    "neutral_q3 = neutral_data.loc[:, neutral_data.columns != 'label'].quantile(0.75)\n",
    "\n",
    "negative_q1 = negative_data.loc[:, negative_data.columns != 'label'].quantile(0.25)\n",
    "negative_q3 = negative_data.loc[:, negative_data.columns != 'label'].quantile(0.75)\n",
    "\n",
    "positive_q1 = positive_data.loc[:, positive_data.columns != 'label'].quantile(0.25)\n",
    "positive_q3 = positive_data.loc[:, positive_data.columns != 'label'].quantile(0.75)\n",
    "\n",
    "# Calculate the Interquartile Range (IQR)\n",
    "neutral_iqr = neutral_q3 - neutral_q1\n",
    "negative_iqr = negative_q3 - negative_q1\n",
    "positive_iqr = positive_q3 - positive_q1\n",
    "\n",
    "# Print the Q1, Q3, and IQR values\n",
    "print(\"Neutral Q1 Values:\\n\", neutral_q1)\n",
    "print(\"Neutral Q3 Values:\\n\", neutral_q3)\n",
    "print(\"Neutral IQR:\\n\", neutral_iqr)\n",
    "\n",
    "print(\"\\nNegative Q1 Values:\\n\", negative_q1)\n",
    "print(\"Negative Q3 Values:\\n\", negative_q3)\n",
    "print(\"Negative IQR:\\n\", negative_iqr)\n",
    "\n",
    "print(\"\\nPositive Q1 Values:\\n\", positive_q1)\n",
    "print(\"Positive Q3 Values:\\n\", positive_q3)\n",
    "print(\"Positive IQR:\\n\", positive_iqr)"
   ]
  },
  {
   "cell_type": "markdown",
   "metadata": {},
   "source": [
    "### 9. Skewness\n",
    "\n",
    "Measures the asymmetry of the data distribution (whether the data leans towards left or right of the mean)."
   ]
  },
  {
   "cell_type": "code",
   "execution_count": null,
   "metadata": {},
   "outputs": [],
   "source": [
    "# Calculate the skewness for each filtered dataset, excluding the 'label' column\n",
    "neutral_skewness = neutral_data.loc[:, neutral_data.columns != 'label'].skew()\n",
    "negative_skewness = negative_data.loc[:, negative_data.columns != 'label'].skew()\n",
    "positive_skewness = positive_data.loc[:, positive_data.columns != 'label'].skew()\n",
    "\n",
    "# Print the skewness values\n",
    "print(\"Neutral Skewness Values:\\n\", neutral_skewness)\n",
    "print(\"\\nNegative Skewness Values:\\n\", negative_skewness)\n",
    "print(\"\\nPositive Skewness Values:\\n\", positive_skewness)"
   ]
  },
  {
   "cell_type": "markdown",
   "metadata": {},
   "source": [
    "### 10. Kurtosis\n",
    "\n",
    "Describes the \"tailedness\" of the data distribution, whether the data has heavy tails (outliers) or is more flat/peaked."
   ]
  },
  {
   "cell_type": "code",
   "execution_count": null,
   "metadata": {},
   "outputs": [],
   "source": [
    "# Calculate the kurtosis for each filtered dataset, excluding the 'label' column\n",
    "neutral_kurtosis = neutral_data.loc[:, neutral_data.columns != 'label'].kurtosis()\n",
    "negative_kurtosis = negative_data.loc[:, negative_data.columns != 'label'].kurtosis()\n",
    "positive_kurtosis = positive_data.loc[:, positive_data.columns != 'label'].kurtosis()\n",
    "\n",
    "# Print the kurtosis values\n",
    "print(\"Neutral Kurtosis Values:\\n\", neutral_kurtosis)\n",
    "print(\"\\nNegative Kurtosis Values:\\n\", negative_kurtosis)\n",
    "print(\"\\nPositive Kurtosis Values:\\n\", positive_kurtosis)"
   ]
  },
  {
   "cell_type": "markdown",
   "metadata": {},
   "source": [
    "# Visualization"
   ]
  },
  {
   "cell_type": "code",
   "execution_count": null,
   "metadata": {},
   "outputs": [],
   "source": [
    "import matplotlib.pyplot as plt\n",
    "import seaborn as sns"
   ]
  },
  {
   "cell_type": "markdown",
   "metadata": {},
   "source": [
    "### Histograms\n",
    "\n",
    "To visualize the distribution of individual features."
   ]
  },
  {
   "cell_type": "code",
   "execution_count": null,
   "metadata": {},
   "outputs": [],
   "source": [
    "# Plot histograms for a limited number of features\n",
    "counter = 0\n",
    "max_plots = 5  # Set the number of histograms you want to display\n",
    "\n",
    "for col in df.columns:\n",
    "    if col != 'label' and counter < max_plots:\n",
    "        plt.figure(figsize=(10, 6))\n",
    "        plt.hist(neutral_data[col], bins=30, alpha=0.5, label='Neutral')\n",
    "        plt.hist(negative_data[col], bins=30, alpha=0.5, label='Negative')\n",
    "        plt.hist(positive_data[col], bins=30, alpha=0.5, label='Positive')\n",
    "        plt.title(f'Histogram of {col}')\n",
    "        plt.xlabel(col)\n",
    "        plt.ylabel('Frequency')\n",
    "        plt.legend(loc='upper right')\n",
    "        plt.show()\n",
    "        counter += 1"
   ]
  },
  {
   "cell_type": "markdown",
   "metadata": {},
   "source": [
    "### Boxplots \n",
    "\n",
    "To visualize the distribution and identify outliers."
   ]
  },
  {
   "cell_type": "code",
   "execution_count": null,
   "metadata": {},
   "outputs": [],
   "source": [
    "# Plot boxplots for a limited number of features\n",
    "counter = 0\n",
    "max_plots = 5  # Set the number of boxplots you want to display\n",
    "\n",
    "for col in df.columns:\n",
    "    if col != 'label' and counter < max_plots:\n",
    "        plt.figure(figsize=(10, 6))\n",
    "        plt.boxplot([neutral_data[col], negative_data[col], positive_data[col]], labels=['Neutral', 'Negative', 'Positive'])\n",
    "        plt.title(f'Boxplot of {col}')\n",
    "        plt.xlabel('Label')\n",
    "        plt.ylabel(col)\n",
    "        plt.show()\n",
    "        counter += 1"
   ]
  },
  {
   "cell_type": "markdown",
   "metadata": {},
   "source": [
    "### Correlation Matrix\n",
    "\n",
    "To understand relationships between features."
   ]
  },
  {
   "cell_type": "code",
   "execution_count": null,
   "metadata": {},
   "outputs": [],
   "source": [
    "# Calculate the correlation matrix, excluding the 'label' column\n",
    "correlation_matrix = df.loc[:, df.columns != 'label'].corr()\n",
    "\n",
    "# Plot the correlation matrix using a heatmap\n",
    "plt.figure(figsize=(12, 8))\n",
    "sns.heatmap(correlation_matrix, annot=True, cmap='coolwarm', fmt='.2f', linewidths=0.5)\n",
    "plt.title('Correlation Matrix')\n",
    "plt.show()"
   ]
  }
 ],
 "metadata": {
  "kernelspec": {
   "display_name": "Python 3",
   "language": "python",
   "name": "python3"
  },
  "language_info": {
   "codemirror_mode": {
    "name": "ipython",
    "version": 3
   },
   "file_extension": ".py",
   "mimetype": "text/x-python",
   "name": "python",
   "nbconvert_exporter": "python",
   "pygments_lexer": "ipython3",
   "version": "3.10.12"
  }
 },
 "nbformat": 4,
 "nbformat_minor": 2
}
